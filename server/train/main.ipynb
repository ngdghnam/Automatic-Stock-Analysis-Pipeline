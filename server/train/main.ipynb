{
 "cells": [
  {
   "cell_type": "markdown",
   "id": "9e619be9",
   "metadata": {},
   "source": [
    "# TRAIN DATA\n"
   ]
  },
  {
   "cell_type": "markdown",
   "id": "7320383a",
   "metadata": {},
   "source": [
    "## BASE -- CORE\n"
   ]
  },
  {
   "cell_type": "code",
   "execution_count": null,
   "id": "2ee7f49d",
   "metadata": {},
   "outputs": [],
   "source": []
  }
 ],
 "metadata": {
  "kernelspec": {
   "display_name": ".venv",
   "language": "python",
   "name": "python3"
  },
  "language_info": {
   "name": "python",
   "version": "3.12.9"
  }
 },
 "nbformat": 4,
 "nbformat_minor": 5
}
